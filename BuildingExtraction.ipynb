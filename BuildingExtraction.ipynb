{
 "cells": [
  {
   "cell_type": "markdown",
   "metadata": {},
   "source": [
    "Overview\n",
    "--------\n",
    "\n",
    "Extracting building footprints from LiDAR derived elevation models, NAIP, and thematic mask layers.\n",
    "\n",
    "\n",
    "Input Data\n",
    "----------\n",
    "\n",
    "The thematic data include a subset of roads, hydroline, and hydropoly datasets for Jefferson county WV and Washington county MD.\n",
    "\n",
    "The input LAZ file in sample data is in UTM zone 18 N.  The derivatative DSM, DTM, and DEM were created with the commands outlined below the `lidar-processing` utility should handle point filtering but currently lacks that functionality.  `las2las` was obtained from a homebrewed install of libLAS.  The input LiDAR data has already been de-noised.\n",
    "\n",
    "Surface models generated from LiDAR have different names depending on who you ask so for the sake of this exercis they are defined as follows:\n",
    "\n",
    "1. Digital Surface Model (DSM) - Gridded first return\n",
    "2. Digital Terrain Model (DTM) - Gridded last return\n",
    "3. Digital Elevation Model (DEM) - Gridded ground returns/classification\n",
    "\n",
    "A Normalized Digital Terrain Model is DTM - DEM, which leaves roughly absolute height above ground for the remaining pixels and eliminates most vegetation.  It is immediately clipped to > 3m in order to eliminate ground pixel noise and any building we really care about is at least 3 meters tall.\n",
    "    \n",
    "    # DTM\n",
    "    las2las --last-return-only \\\n",
    "        -i sample-data/VA-WV-MD_FEMA_Region3_UTM18_2012_000842.laz \\\n",
    "        -o sample-data/last.las\n",
    "    ./lidar-processing.py \\\n",
    "        sample-data/last.las \\\n",
    "        sample-data/DTM.tif \\\n",
    "        -tr 1 1 \\\n",
    "        -co COMPRESS=DEFLATE -co TILED=YES -co PREDICTOR=3 -co ZLEVEL=9 \\\n",
    "        -crs EPSG:32618 \\\n",
    "        --interpolation nearest\n",
    "\n",
    "    # DEM\n",
    "    las2las --keep-classes 2 \\\n",
    "        -i sample-data/VA-WV-MD_FEMA_Region3_UTM18_2012_000842.laz \\\n",
    "        -o sample-data/ground.las\n",
    "    ./lidar-processing.py \\\n",
    "        sample-data/ground.las \\\n",
    "        sample-data/DEM.tif \\\n",
    "        -tr 1 1 \\\n",
    "        -co COMPRESS=DEFLATE -co TILED=YES -co PREDICTOR=3 -co ZLEVEL=9 \\\n",
    "        -crs EPSG:32618 \\\n",
    "        --interpolation nearest\n",
    "        \n",
    "    # DSM - not needed for this exercise\n",
    "    las2las --first-return-only \\\n",
    "        -i sample-data/VA-WV-MD_FEMA_Region3_UTM18_2012_000842.laz \\\n",
    "        -o sample-data/first.las\n",
    "    ./lidar-processing.py \\\n",
    "        sample-data/first.las \\\n",
    "        sample-data/DSM.tif \\\n",
    "        -tr 1 1 \\\n",
    "        -co COMPRESS=DEFLATE -co TILED=YES -co PREDICTOR=3 -co ZLEVEL=9 \\\n",
    "        -crs EPSG:32618 \\\n",
    "        --interpolation nearest\n",
    "        "
   ]
  },
  {
   "cell_type": "markdown",
   "metadata": {},
   "source": [
    "###Imports"
   ]
  },
  {
   "cell_type": "code",
   "execution_count": 1,
   "metadata": {
    "collapsed": false
   },
   "outputs": [],
   "source": [
    "%matplotlib inline\n",
    "import os\n",
    "import fiona\n",
    "import matplotlib.pyplot as plt\n",
    "import numpy as np\n",
    "import rasterio\n",
    "from rasterio.features import rasterize\n",
    "from shapely.geometry import asShape"
   ]
  },
  {
   "cell_type": "markdown",
   "metadata": {},
   "source": [
    "###Identify all the needed files, make sure they exist\n",
    "\n",
    "Cache the DTM raster's metadata so we can extract information from it later."
   ]
  },
  {
   "cell_type": "code",
   "execution_count": 2,
   "metadata": {
    "collapsed": false
   },
   "outputs": [],
   "source": [
    "dtm_path = 'sample-data/DTM.tif'\n",
    "dem_path = 'sample-data/DEM.tif'\n",
    "\n",
    "# Keys are paths and vals are buffer distances\n",
    "thematic_mask_paths = {\n",
    "    'sample-data/tl_2014_24043_areawater.geojson': 0,\n",
    "    'sample-data/tl_2014_24_prisecroads.geojson': 3,\n",
    "    'sample-data/tl_2014_54037_areawater.geojson': 0,\n",
    "    'sample-data/tl_2014_54037_linearwater.geojson': 1,\n",
    "    'sample-data/tl_2014_54037_roads.geojson': 3\n",
    "}\n",
    "\n",
    "# Define some additional commonly used variables\n",
    "with rasterio.drivers(), fiona.drivers():\n",
    "    with rasterio.open(dtm_path) as src:\n",
    "        dtm_meta = src.meta.copy()\n",
    "        dtm_shape = src.shape\n",
    "        dtm_nodata = src.meta['nodata']\n",
    "        dtm_dtype = src.meta['dtype']\n",
    "        dtm_affine = src.meta['affine']"
   ]
  },
  {
   "cell_type": "markdown",
   "metadata": {},
   "source": [
    "###Create a mask layer from the thematic datasets"
   ]
  },
  {
   "cell_type": "code",
   "execution_count": 3,
   "metadata": {
    "collapsed": false,
    "scrolled": true
   },
   "outputs": [
    {
     "ename": "FionaValueError",
     "evalue": "No dataset found at path 'sample-data/tl_2014_54037_roads.geojson' using drivers: *",
     "output_type": "error",
     "traceback": [
      "\u001b[0;31m---------------------------------------------------------------------------\u001b[0m",
      "\u001b[0;31mFionaValueError\u001b[0m                           Traceback (most recent call last)",
      "\u001b[0;32m<ipython-input-3-98ce88215204>\u001b[0m in \u001b[0;36m<module>\u001b[0;34m()\u001b[0m\n\u001b[1;32m      1\u001b[0m \u001b[0mmask_layer\u001b[0m \u001b[0;34m=\u001b[0m \u001b[0mnp\u001b[0m\u001b[0;34m.\u001b[0m\u001b[0mfull\u001b[0m\u001b[0;34m(\u001b[0m\u001b[0mdtm_shape\u001b[0m\u001b[0;34m,\u001b[0m \u001b[0;36m0\u001b[0m\u001b[0;34m,\u001b[0m \u001b[0mdtm_dtype\u001b[0m\u001b[0;34m)\u001b[0m\u001b[0;34m\u001b[0m\u001b[0m\n\u001b[1;32m      2\u001b[0m \u001b[0;32mfor\u001b[0m \u001b[0mmask_path\u001b[0m\u001b[0;34m,\u001b[0m \u001b[0mbuff_dist\u001b[0m \u001b[0;32min\u001b[0m \u001b[0mthematic_mask_paths\u001b[0m\u001b[0;34m.\u001b[0m\u001b[0mitems\u001b[0m\u001b[0;34m(\u001b[0m\u001b[0;34m)\u001b[0m\u001b[0;34m:\u001b[0m\u001b[0;34m\u001b[0m\u001b[0m\n\u001b[0;32m----> 3\u001b[0;31m     \u001b[0;32mwith\u001b[0m \u001b[0mfiona\u001b[0m\u001b[0;34m.\u001b[0m\u001b[0mopen\u001b[0m\u001b[0;34m(\u001b[0m\u001b[0mmask_path\u001b[0m\u001b[0;34m)\u001b[0m \u001b[0;32mas\u001b[0m \u001b[0msrc\u001b[0m\u001b[0;34m:\u001b[0m\u001b[0;34m\u001b[0m\u001b[0m\n\u001b[0m\u001b[1;32m      4\u001b[0m         mask_layer = rasterize(\n\u001b[1;32m      5\u001b[0m             \u001b[0mshapes\u001b[0m\u001b[0;34m=\u001b[0m\u001b[0;34m[\u001b[0m\u001b[0masShape\u001b[0m\u001b[0;34m(\u001b[0m\u001b[0mf\u001b[0m\u001b[0;34m[\u001b[0m\u001b[0;34m'geometry'\u001b[0m\u001b[0;34m]\u001b[0m\u001b[0;34m)\u001b[0m\u001b[0;34m.\u001b[0m\u001b[0mbuffer\u001b[0m\u001b[0;34m(\u001b[0m\u001b[0mbuff_dist\u001b[0m\u001b[0;34m)\u001b[0m \u001b[0;32mfor\u001b[0m \u001b[0mf\u001b[0m \u001b[0;32min\u001b[0m \u001b[0msrc\u001b[0m\u001b[0;34m]\u001b[0m\u001b[0;34m,\u001b[0m\u001b[0;34m\u001b[0m\u001b[0m\n",
      "\u001b[0;32m/usr/local/lib/python2.7/site-packages/fiona/__init__.pyc\u001b[0m in \u001b[0;36mopen\u001b[0;34m(path, mode, driver, schema, crs, encoding, layer, vfs, enabled_drivers)\u001b[0m\n\u001b[1;32m    152\u001b[0m         c = Collection(path, mode, driver=driver,\n\u001b[1;32m    153\u001b[0m                 \u001b[0mencoding\u001b[0m\u001b[0;34m=\u001b[0m\u001b[0mencoding\u001b[0m\u001b[0;34m,\u001b[0m \u001b[0mlayer\u001b[0m\u001b[0;34m=\u001b[0m\u001b[0mlayer\u001b[0m\u001b[0;34m,\u001b[0m \u001b[0mvsi\u001b[0m\u001b[0;34m=\u001b[0m\u001b[0mvsi\u001b[0m\u001b[0;34m,\u001b[0m \u001b[0marchive\u001b[0m\u001b[0;34m=\u001b[0m\u001b[0marchive\u001b[0m\u001b[0;34m,\u001b[0m\u001b[0;34m\u001b[0m\u001b[0m\n\u001b[0;32m--> 154\u001b[0;31m                 enabled_drivers=enabled_drivers)\n\u001b[0m\u001b[1;32m    155\u001b[0m     \u001b[0;32melif\u001b[0m \u001b[0mmode\u001b[0m \u001b[0;34m==\u001b[0m \u001b[0;34m'w'\u001b[0m\u001b[0;34m:\u001b[0m\u001b[0;34m\u001b[0m\u001b[0m\n\u001b[1;32m    156\u001b[0m         \u001b[0;32mif\u001b[0m \u001b[0mschema\u001b[0m\u001b[0;34m:\u001b[0m\u001b[0;34m\u001b[0m\u001b[0m\n",
      "\u001b[0;32m/usr/local/lib/python2.7/site-packages/fiona/collection.pyc\u001b[0m in \u001b[0;36m__init__\u001b[0;34m(self, path, mode, driver, schema, crs, encoding, layer, vsi, archive, enabled_drivers, **kwargs)\u001b[0m\n\u001b[1;32m    137\u001b[0m             \u001b[0mself\u001b[0m\u001b[0;34m.\u001b[0m\u001b[0mencoding\u001b[0m \u001b[0;34m=\u001b[0m \u001b[0mencoding\u001b[0m\u001b[0;34m\u001b[0m\u001b[0m\n\u001b[1;32m    138\u001b[0m             \u001b[0mself\u001b[0m\u001b[0;34m.\u001b[0m\u001b[0msession\u001b[0m \u001b[0;34m=\u001b[0m \u001b[0mSession\u001b[0m\u001b[0;34m(\u001b[0m\u001b[0;34m)\u001b[0m\u001b[0;34m\u001b[0m\u001b[0m\n\u001b[0;32m--> 139\u001b[0;31m             \u001b[0mself\u001b[0m\u001b[0;34m.\u001b[0m\u001b[0msession\u001b[0m\u001b[0;34m.\u001b[0m\u001b[0mstart\u001b[0m\u001b[0;34m(\u001b[0m\u001b[0mself\u001b[0m\u001b[0;34m)\u001b[0m\u001b[0;34m\u001b[0m\u001b[0m\n\u001b[0m\u001b[1;32m    140\u001b[0m \u001b[0;34m\u001b[0m\u001b[0m\n\u001b[1;32m    141\u001b[0m             \u001b[0;31m# If encoding param is None, we'll use what the session\u001b[0m\u001b[0;34m\u001b[0m\u001b[0;34m\u001b[0m\u001b[0m\n",
      "\u001b[0;32mfiona/ogrext.pyx\u001b[0m in \u001b[0;36mfiona.ogrext.Session.start (fiona/ogrext.c:7120)\u001b[0;34m()\u001b[0m\n",
      "\u001b[0;31mFionaValueError\u001b[0m: No dataset found at path 'sample-data/tl_2014_54037_roads.geojson' using drivers: *"
     ]
    }
   ],
   "source": [
    "mask_layer = np.full(dtm_shape, 0, dtm_dtype)\n",
    "for mask_path, buff_dist in thematic_mask_paths.items():\n",
    "    with fiona.open(mask_path) as src:\n",
    "        mask_layer = rasterize(\n",
    "            shapes=[asShape(f['geometry']).buffer(buff_dist) for f in src],\n",
    "            out_shape=mask_layer,\n",
    "            fill=1,\n",
    "            out=mask_layer,\n",
    "            transform=dtm_affine,\n",
    "            all_touched=True,\n",
    "            default_value=0,\n",
    "            dtype='uint8'\n",
    "        )\n",
    "        \n",
    "            \n",
    "# Burn all geometries into a single numpy array\n",
    "# mask_layer = rasterize(\n",
    "#     mask_geometries,\n",
    "#     out_shape=(dtm_meta['height'], dtm_meta['width']),\n",
    "#     transform=dtm_meta['affine'],\n",
    "#     all_touched=True,\n",
    "#     dtype='uint8'\n",
    "# ).astype(np.bool)"
   ]
  },
  {
   "cell_type": "code",
   "execution_count": 6,
   "metadata": {
    "collapsed": false
   },
   "outputs": [],
   "source": [
    "# Generate a Normalized DTM by subtracting the DEM from the DTM\n",
    "with rasterio.open(dtm_path) as dtm, rasterio.open(dem_path) as dem:\n",
    "    ndtm = dtm.read_band(1) - dem.read_band(1)"
   ]
  },
  {
   "cell_type": "markdown",
   "metadata": {},
   "source": [
    "###Display layers"
   ]
  },
  {
   "cell_type": "code",
   "execution_count": null,
   "metadata": {
    "collapsed": false
   },
   "outputs": [],
   "source": [
    "print(\"Thematic mask\")\n",
    "plt.imshow(mask_layer)\n",
    "plt.show()"
   ]
  },
  {
   "cell_type": "code",
   "execution_count": null,
   "metadata": {
    "collapsed": false
   },
   "outputs": [],
   "source": [
    "print(\"nDTM:\")\n",
    "plt.imshow(ndtm)\n",
    "plt.set_cmap('YlGnBu_r')\n",
    "plt.show()"
   ]
  },
  {
   "cell_type": "code",
   "execution_count": null,
   "metadata": {
    "collapsed": false
   },
   "outputs": [],
   "source": [
    "print(\"DTM:\")\n",
    "with rasterio.open(dtm_path) as dtm:\n",
    "    plt.imshow(dtm.read_band(1))\n",
    "    plt.set_cmap('YlGnBu_r')\n",
    "    plt.show()"
   ]
  },
  {
   "cell_type": "code",
   "execution_count": null,
   "metadata": {
    "collapsed": false
   },
   "outputs": [],
   "source": [
    "print(\"DEM:\")\n",
    "with rasterio.open(dem_path) as dem:\n",
    "    plt.imshow(dem.read_band(1))\n",
    "    plt.set_cmap('YlGnBu_r')\n",
    "    plt.show()"
   ]
  },
  {
   "cell_type": "code",
   "execution_count": null,
   "metadata": {
    "collapsed": true
   },
   "outputs": [],
   "source": []
  }
 ],
 "metadata": {
  "kernelspec": {
   "display_name": "Python 2",
   "language": "python",
   "name": "python2"
  },
  "language_info": {
   "codemirror_mode": {
    "name": "ipython",
    "version": 2
   },
   "file_extension": ".py",
   "mimetype": "text/x-python",
   "name": "python",
   "nbconvert_exporter": "python",
   "pygments_lexer": "ipython2",
   "version": "2.7.9"
  }
 },
 "nbformat": 4,
 "nbformat_minor": 0
}
